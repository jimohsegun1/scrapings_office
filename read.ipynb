{
 "cells": [
  {
   "cell_type": "code",
   "execution_count": 1,
   "id": "0d811f3c",
   "metadata": {},
   "outputs": [
    {
     "name": "stdout",
     "output_type": "stream",
     "text": [
      "Total number of rows: 7446\n"
     ]
    }
   ],
   "source": [
    "import pandas as pd\n",
    "\n",
    "# Load the CSV file\n",
    "# df = pd.read_csv('data/broadway_20250717_172724.csv')  # Replace with your actual file name\n",
    "df = pd.read_csv('data/broadway_20250701_104159.csv')  # Replace with your actual file name\n",
    "\n",
    "# Get total number of rows\n",
    "total_rows = len(df)\n",
    "\n",
    "print(f\"Total number of rows: {total_rows}\")\n"
   ]
  }
 ],
 "metadata": {
  "kernelspec": {
   "display_name": "Python 3",
   "language": "python",
   "name": "python3"
  },
  "language_info": {
   "codemirror_mode": {
    "name": "ipython",
    "version": 3
   },
   "file_extension": ".py",
   "mimetype": "text/x-python",
   "name": "python",
   "nbconvert_exporter": "python",
   "pygments_lexer": "ipython3",
   "version": "3.12.6"
  }
 },
 "nbformat": 4,
 "nbformat_minor": 5
}
